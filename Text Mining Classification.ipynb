{
 "cells": [
  {
   "cell_type": "code",
   "execution_count": 25,
   "metadata": {},
   "outputs": [],
   "source": [
    "import pandas as pd\n",
    "import numpy as np\n",
    "from sklearn.feature_extraction.text import CountVectorizer, TfidfTransformer,TfidfVectorizer\n",
    "from sklearn.pipeline import Pipeline\n",
    "from sklearn.model_selection import cross_val_score\n",
    "from sklearn.metrics import accuracy_score\n",
    "\n",
    "from sklearn.naive_bayes import MultinomialNB\n",
    "from sklearn.linear_model import SGDClassifier\n",
    "from sklearn.tree import DecisionTreeClassifier\n",
    "from sklearn.ensemble import RandomForestClassifier\n",
    "from sklearn.ensemble import GradientBoostingClassifier\n",
    "\n",
    "#Set Max Columns/Rows\n",
    "pd.set_option('display.max_columns' , 999)\n",
    "pd.set_option('display.max_rows' , 999)\n",
    "\n",
    "#ignore warnings\n",
    "import warnings\n",
    "warnings.filterwarnings('ignore')"
   ]
  },
  {
   "cell_type": "code",
   "execution_count": 26,
   "metadata": {},
   "outputs": [],
   "source": [
    "#Read in Data \n",
    "CP_original = pd.read_csv('ClassifiedProcedures.csv')\n",
    "#split columns\n",
    "df = CP_original['MedicalProcedureGroup'].str.split('[', expand=True, n=1)\n",
    "CP_original['MedicalProcedureGroup_Front'] = df[0]\n",
    "df_2 = CP_original['MedicalProcedureGroup_Front'].str.split('-', expand=True, n=1)\n",
    "CP_original['MedicalProcedureGroup_Simple'] = df_2[0]\n",
    "CP_original['MedicalProcedureGroup_Detail'] = df_2[1]\n",
    "\n",
    "CP = CP_original.loc[:,('MedicalProcedure','MedicalProcedureGroup','MedicalProcedureGroupRisk','MedicalProcedureGroup_Front','MedicalProcedureGroup_Simple','MedicalProcedureGroup_Detail')]"
   ]
  },
  {
   "cell_type": "code",
   "execution_count": 27,
   "metadata": {},
   "outputs": [],
   "source": [
    "#shuffle dataset \n",
    "CP = CP.sample(frac=1).reset_index(drop=True)"
   ]
  },
  {
   "cell_type": "code",
   "execution_count": 28,
   "metadata": {},
   "outputs": [],
   "source": [
    "#Exclude Procedures that have less than two counts \n",
    "counts = pd.DataFrame(CP['MedicalProcedureGroup'].value_counts())\n",
    "Exclude = counts[counts['MedicalProcedureGroup'] == 1].index.tolist()"
   ]
  },
  {
   "cell_type": "code",
   "execution_count": 30,
   "metadata": {},
   "outputs": [],
   "source": [
    "#Procedures to Exclude \n",
    "CP = CP[~CP.MedicalProcedureGroup.isin(Exclude)] \n",
    "CP = CP.reset_index(drop=True)"
   ]
  },
  {
   "cell_type": "code",
   "execution_count": 31,
   "metadata": {},
   "outputs": [],
   "source": [
    "#remove null values\n",
    "CP = CP[CP['MedicalProcedure'].isnull()== False]"
   ]
  },
  {
   "cell_type": "code",
   "execution_count": 32,
   "metadata": {},
   "outputs": [],
   "source": [
    "#split CP into train/test \n",
    "train_len = int(len(CP) * 0.85)\n",
    "CP_train= CP.head(train_len)\n",
    "CP_test = CP.tail(len(CP)-train_len)\n",
    "CP_test = CP_test.reset_index(drop=True)"
   ]
  },
  {
   "cell_type": "code",
   "execution_count": 41,
   "metadata": {},
   "outputs": [],
   "source": [
    "def find_best_cls(prediction_column):\n",
    "\n",
    "    #Preprocessing\n",
    "    X_columns = ['MedicalProcedure']\n",
    "    y_columns = [prediction_column]\n",
    "\n",
    "    #split data into Features and Target \n",
    "    X = CP_train.loc[:,X_columns].values\n",
    "    y = CP_train.loc[:,y_columns].values\n",
    "\n",
    "    X_test = CP_test.loc[:,X_columns].values\n",
    "    y_test = CP_test.loc[:,y_columns].values\n",
    "    \n",
    "    #look for best classifier \n",
    "    cls_lst = {'MultinomialNB': MultinomialNB(), \n",
    "               'DecisionTreeClassifer':DecisionTreeClassifier(), \n",
    "               'SGD': SGDClassifier(loss='hinge', penalty='l2', alpha=1e-3),\n",
    "               'RandomForest':RandomForestClassifier(),\n",
    "              }\n",
    "\n",
    "    for name, classifier in cls_lst.items():\n",
    "        cls = Pipeline([('vect', CountVectorizer(stop_words = 'english')), ('tfidf', TfidfTransformer(use_idf=False)),('clf', classifier)])\n",
    "        cls.fit(X.ravel(), y.ravel())\n",
    "        scores = cross_val_score(cls, X.ravel(), y.ravel(), cv=5)\n",
    "   \n",
    "    \n",
    "    #best classifier\n",
    "    clasifier_SGD = SGDClassifier(loss='hinge', penalty='l2', alpha=1e-3, random_state=42)\n",
    "\n",
    "    cls_SGDC = Pipeline([('vect', CountVectorizer(stop_words = 'english')), ('tfidf', TfidfTransformer(use_idf=False)),('clf', clasifier_SGD)])\n",
    "    cls_SGDC.fit(X.ravel(), y.ravel())\n",
    "    predicted_SGD = cls_SGDC.predict(X_test.ravel())\n",
    "\n",
    "    scores = np.mean(cross_val_score(cls, X.ravel(), y.ravel(), cv=5))\n",
    "    \n",
    "    test_score = accuracy_score(y_test,predicted_SGD)\n",
    "\n",
    "    return (scores)\n",
    "    \n",
    "        \n",
    "    "
   ]
  },
  {
   "cell_type": "code",
   "execution_count": 47,
   "metadata": {},
   "outputs": [],
   "source": [
    "X_columns = ['MedicalProcedure']\n",
    "y_columns = ['MedicalProcedureGroup']\n",
    "\n",
    "#split data into Features and Target \n",
    "X = CP_train.loc[:,X_columns].values\n",
    "y = CP_train.loc[:,y_columns].values\n",
    "\n",
    "X_test = CP_test.loc[:,X_columns].values\n",
    "y_test = CP_test.loc[:,y_columns].values\n",
    "\n",
    "clasifier_SGD = SGDClassifier(loss='hinge', penalty='l2', alpha=1e-3, random_state=42)\n",
    "\n",
    "cls_SGDC = Pipeline([('vect', CountVectorizer(stop_words = 'english')), ('tfidf', TfidfTransformer(use_idf=False)),('clf', clasifier_SGD)])\n",
    "cls_SGDC.fit(X.ravel(), y.ravel())\n",
    "predicted_SGD = cls_SGDC.predict(X_test.ravel())\n",
    "\n",
    "\n",
    "\n",
    "#find the confidence levels \n",
    "decision_function = pd.DataFrame(cls_SGDC.decision_function(X_test.ravel()))\n",
    "decision_function['max'] = decision_function.max(axis = 1)"
   ]
  },
  {
   "cell_type": "code",
   "execution_count": null,
   "metadata": {},
   "outputs": [],
   "source": [
    "#export to CSV \n",
    "predictions_table = pd.DataFrame({'MedicalProcedure':CP_test.MedicalProcedure, \n",
    "                                  'Actual':CP_test.MedicalProcedureGroup,\n",
    "                                  'Actual_Simple':CP_test.MedicalProcedureGroup_Simple,\n",
    "                                  'Prediction':predicted_SGD,\n",
    "                                  'Confidence':decision_function['max']\n",
    "                                 }).set_index('MedicalProcedure')\n",
    "pd.DataFrame(predictions_table).to_csv('predicted_2.csv') "
   ]
  },
  {
   "cell_type": "markdown",
   "metadata": {},
   "source": [
    "## Test Data"
   ]
  },
  {
   "cell_type": "code",
   "execution_count": 59,
   "metadata": {},
   "outputs": [],
   "source": [
    "# testing new dataset\n",
    "to_be_classified = pd.read_excel('ePreop-IRMC-Cerner-Procedures.xlsx', sheet_name = 'CURRENT - Cerner')\n",
    "new_categories = pd.read_excel('ePreop-IRMC-Cerner-Procedures.xlsx', sheet_name = 'Categories')"
   ]
  },
  {
   "cell_type": "code",
   "execution_count": 57,
   "metadata": {},
   "outputs": [],
   "source": [
    "#import test data-- earlier test set \n",
    "# to_be_classified = pd.read_csv('ProceduresToBeClassified.csv')"
   ]
  },
  {
   "cell_type": "code",
   "execution_count": 60,
   "metadata": {},
   "outputs": [],
   "source": [
    "#remove null values\n",
    "to_be_classified = to_be_classified.loc[(to_be_classified['Procedure Description'].isnull()==False),:]"
   ]
  },
  {
   "cell_type": "code",
   "execution_count": 61,
   "metadata": {},
   "outputs": [],
   "source": [
    "#create X \n",
    "X_test_final = to_be_classified.loc[:,('Procedure Description')].values"
   ]
  },
  {
   "cell_type": "code",
   "execution_count": 62,
   "metadata": {},
   "outputs": [],
   "source": [
    "y_pred_final = cls_SGDC.predict(X_test_final)"
   ]
  },
  {
   "cell_type": "code",
   "execution_count": 63,
   "metadata": {},
   "outputs": [],
   "source": [
    "decision_function = pd.DataFrame(cls_SGDC.decision_function(X_test_final.ravel()))\n",
    "decision_function['max'] = decision_function.max(axis = 1)"
   ]
  },
  {
   "cell_type": "code",
   "execution_count": 64,
   "metadata": {},
   "outputs": [],
   "source": [
    "predictions_table = pd.DataFrame({'MedicalProcedure':X_test_final, \n",
    "                                  'Prediction':y_pred_final,\n",
    "                                  'Confidence':decision_function['max']\n",
    "                                 }).set_index('MedicalProcedure')\n",
    "pd.DataFrame(predictions_table).to_csv('predicted_test_IRMC_Cerner.csv')"
   ]
  },
  {
   "cell_type": "markdown",
   "metadata": {},
   "source": [
    "## Testing Adding Field"
   ]
  },
  {
   "cell_type": "code",
   "execution_count": null,
   "metadata": {},
   "outputs": [],
   "source": [
    "predictions_table['same?'] = predictions_table.where(('Prediction' == 'Actual'))"
   ]
  },
  {
   "cell_type": "code",
   "execution_count": null,
   "metadata": {},
   "outputs": [],
   "source": [
    "np.where((predictions_table['Prediction'] == predictions_table['Actual']))"
   ]
  },
  {
   "cell_type": "code",
   "execution_count": null,
   "metadata": {},
   "outputs": [],
   "source": []
  }
 ],
 "metadata": {
  "anaconda-cloud": {},
  "kernelspec": {
   "display_name": "Python [conda root]",
   "language": "python",
   "name": "conda-root-py"
  },
  "language_info": {
   "codemirror_mode": {
    "name": "ipython",
    "version": 3
   },
   "file_extension": ".py",
   "mimetype": "text/x-python",
   "name": "python",
   "nbconvert_exporter": "python",
   "pygments_lexer": "ipython3",
   "version": "3.5.4"
  }
 },
 "nbformat": 4,
 "nbformat_minor": 2
}
