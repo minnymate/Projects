{
 "cells": [
  {
   "cell_type": "markdown",
   "metadata": {},
   "source": [
    "## Preprocessing"
   ]
  },
  {
   "cell_type": "code",
   "execution_count": 167,
   "metadata": {},
   "outputs": [],
   "source": [
    "import pandas as pd\n",
    "import numpy as np"
   ]
  },
  {
   "cell_type": "code",
   "execution_count": 168,
   "metadata": {},
   "outputs": [],
   "source": [
    "import warnings \n",
    "warnings.filterwarnings('ignore')\n",
    "pd.set_option('display.max_columns',999)"
   ]
  },
  {
   "cell_type": "code",
   "execution_count": 169,
   "metadata": {},
   "outputs": [],
   "source": [
    "#import datasets \n",
    "work_orders = pd.read_csv('CSV_files/work_orders.csv')\n",
    "OA = pd.read_csv('CSV_files/operational_assets.csv')"
   ]
  },
  {
   "cell_type": "code",
   "execution_count": 170,
   "metadata": {},
   "outputs": [],
   "source": [
    "#convert dates to datetime\n",
    "work_orders['FinishDate'] = pd.to_datetime(work_orders['FinishDate'])\n",
    "work_orders['RaiseDate'] = pd.to_datetime(work_orders['RaiseDate'])"
   ]
  },
  {
   "cell_type": "code",
   "execution_count": 171,
   "metadata": {},
   "outputs": [],
   "source": [
    "#Use only work orders from 2016 and beyond \n",
    "work_orders = work_orders[(work_orders['RaiseDate'].dt.year >= 2016.0)]"
   ]
  },
  {
   "cell_type": "markdown",
   "metadata": {},
   "source": [
    "### Analysis Starts Here"
   ]
  },
  {
   "cell_type": "code",
   "execution_count": 172,
   "metadata": {
    "scrolled": true
   },
   "outputs": [],
   "source": [
    "#Create df with only failures \n",
    "WO_RaiseDate = work_orders[work_orders['WorkTypeCategory']=='Failure'].loc[:,('OperationalAssetID','OperationalAssetName','WorkTypeCategory','RaiseDate')].sort_values(['OperationalAssetName','RaiseDate'])"
   ]
  },
  {
   "cell_type": "code",
   "execution_count": 173,
   "metadata": {},
   "outputs": [],
   "source": [
    "#create original WO \n",
    "WO_RaiseDate_original = WO_RaiseDate"
   ]
  },
  {
   "cell_type": "code",
   "execution_count": 174,
   "metadata": {},
   "outputs": [],
   "source": [
    "#create subset of data\n",
    "#WO_RaiseDate = WO_RaiseDate.head(1000)"
   ]
  },
  {
   "cell_type": "code",
   "execution_count": 175,
   "metadata": {},
   "outputs": [],
   "source": [
    "#find min and max raise dates \n",
    "max_date = WO_RaiseDate['RaiseDate'].max()\n",
    "min_date = WO_RaiseDate['RaiseDate'].min()\n",
    "\n",
    "\n",
    "#create dataframe with max dates for each OAID \n",
    "Max_RaiseDate = WO_RaiseDate.groupby(['OperationalAssetID','OperationalAssetName'],as_index = False)['RaiseDate'].max()"
   ]
  },
  {
   "cell_type": "code",
   "execution_count": 176,
   "metadata": {},
   "outputs": [],
   "source": [
    "#For all assets for which the last failed date is before the date that the data was accessed, add another row as \"Non Failure\"\n",
    "for index, row in Max_RaiseDate.iterrows():\n",
    "    if row['RaiseDate'] <= max_date:\n",
    "        WO_RaiseDate = WO_RaiseDate.append({\n",
    "                                            'OperationalAssetID':row['OperationalAssetID'],\n",
    "                                            'OperationalAssetName':row['OperationalAssetName'],\n",
    "                                            'RaiseDate':max_date,\n",
    "                                            'WorkTypeCategory': 'Non Failure'\n",
    "                                           }, ignore_index = True)"
   ]
  },
  {
   "cell_type": "code",
   "execution_count": 177,
   "metadata": {},
   "outputs": [],
   "source": [
    "#Sort Values \n",
    "WO_RaiseDate = WO_RaiseDate.sort_values(['OperationalAssetID','RaiseDate'])"
   ]
  },
  {
   "cell_type": "code",
   "execution_count": 178,
   "metadata": {},
   "outputs": [],
   "source": [
    "#Create df for maintenance \n",
    "MT = work_orders[work_orders['WorkTypeCategory'] == 'Maintenance'].loc[:,('OperationalAssetID','OperationalAssetName','FinishDate')]"
   ]
  },
  {
   "cell_type": "code",
   "execution_count": 179,
   "metadata": {},
   "outputs": [],
   "source": [
    "#Create columns \n",
    "WO_RaiseDate['SinceFailure'] = 0\n",
    "#Create initial date shift \n",
    "WO_RaiseDate['Raise_Date_Shifted'] = WO_RaiseDate['RaiseDate'].shift(1)"
   ]
  },
  {
   "cell_type": "code",
   "execution_count": 180,
   "metadata": {},
   "outputs": [],
   "source": [
    "#Look for assets that are different \n",
    "WO_RaiseDate['DifferentAsset'] = WO_RaiseDate['OperationalAssetID'].diff()\n",
    "WO_RaiseDate[WO_RaiseDate['DifferentAsset'] != 0.0]['DifferentAsset'] = WO_RaiseDate['RaiseDate']"
   ]
  },
  {
   "cell_type": "code",
   "execution_count": 181,
   "metadata": {
    "scrolled": true
   },
   "outputs": [],
   "source": [
    "#For assets that have not changed, \"unshift\" the dates \n",
    "\n",
    "min_date = WO_RaiseDate['RaiseDate'].min()\n",
    "WO_RaiseDate['PreviousDate'] = 0 \n",
    "\n",
    "for i, row in WO_RaiseDate.iterrows():\n",
    "    if row['DifferentAsset'] != 0.0:\n",
    "        WO_RaiseDate.loc[i,'PreviousDate'] = min_date\n",
    "    else:\n",
    "        WO_RaiseDate.loc[i,'PreviousDate'] = row['Raise_Date_Shifted']"
   ]
  },
  {
   "cell_type": "code",
   "execution_count": 182,
   "metadata": {},
   "outputs": [],
   "source": [
    "#drop helper columns \n",
    "WO_RaiseDate = WO_RaiseDate.drop(columns = ['DifferentAsset','Raise_Date_Shifted'])"
   ]
  },
  {
   "cell_type": "code",
   "execution_count": 183,
   "metadata": {},
   "outputs": [],
   "source": [
    "#Convert to datetime \n",
    "WO_RaiseDate['PreviousDate'] = pd.to_datetime(WO_RaiseDate['PreviousDate'])"
   ]
  },
  {
   "cell_type": "code",
   "execution_count": 184,
   "metadata": {
    "scrolled": true
   },
   "outputs": [],
   "source": [
    "#Calculate date since failure \n",
    "WO_RaiseDate['SinceFailure'] = WO_RaiseDate['RaiseDate'] - WO_RaiseDate['PreviousDate']"
   ]
  },
  {
   "cell_type": "code",
   "execution_count": 185,
   "metadata": {},
   "outputs": [],
   "source": [
    "#create column 'Cumulative Maintenance' \n",
    "WO_RaiseDate['Cumulative_Maintenance'] = 0"
   ]
  },
  {
   "cell_type": "code",
   "execution_count": 186,
   "metadata": {},
   "outputs": [],
   "source": [
    "#Calculate Cumulative Maintenance \n",
    "for ID in WO_RaiseDate['OperationalAssetID'].unique():\n",
    "    for i, r in WO_RaiseDate[WO_RaiseDate['OperationalAssetID'] == ID].iterrows():\n",
    "        temp = 0 \n",
    "        for j, s in MT[MT['OperationalAssetID'] == ID].iterrows():\n",
    "            if s['FinishDate'] <= r['RaiseDate']:\n",
    "                temp = temp + 1\n",
    "        WO_RaiseDate.loc[i,'Cumulative_Maintenance'] = temp "
   ]
  },
  {
   "cell_type": "code",
   "execution_count": 187,
   "metadata": {
    "scrolled": true
   },
   "outputs": [],
   "source": [
    "# Keep only necessary columns \n",
    "WO_RaiseDate = WO_RaiseDate.loc[:,('OperationalAssetID','WorkTypeCategory','SinceFailure','OperationalAssetName','RaiseDate', 'Cumulative_Maintenance')]"
   ]
  },
  {
   "cell_type": "code",
   "execution_count": 188,
   "metadata": {
    "scrolled": true
   },
   "outputs": [],
   "source": [
    "date_delta = max_date - min_date\n",
    "\n",
    "MA = work_orders[work_orders['WorkTypeCategory'] == 'Maintenance']\n",
    "FA = work_orders[work_orders['WorkTypeCategory'] == 'Failure']\n",
    "\n",
    "#OA maintained but not failed \n",
    "MA_not_FA = MA.merge(FA, on = 'OperationalAssetID', how = 'left', indicator = True)\n",
    "MA_not_FA = MA_not_FA[MA_not_FA['_merge'] == 'left_only']['OperationalAssetID'].unique()\n",
    "\n",
    "#Create dataframe for no failures \n",
    "No_Failure = pd.DataFrame(columns = ['OperationalAssetID','WorkTypeCategory','SinceFailure','RaiseDate'])\n",
    "\n",
    "for i in MA_not_FA:\n",
    "    No_Failure = No_Failure.append({\n",
    "                                    'OperationalAssetID': i,\n",
    "                                    'WorkTypeCategory':'Non Failure',\n",
    "                                    'SinceFailure': date_delta,\n",
    "                                    'RaiseDate':max_date        \n",
    "                                    }, ignore_index=True)\n",
    "\n",
    "#Convert OAID back to INT \n",
    "No_Failure['OperationalAssetID'] = No_Failure['OperationalAssetID'].astype('int64')\n",
    "\n",
    "#get df with just OAID and OAName \n",
    "work_orders_OAname = work_orders.groupby('OperationalAssetID',as_index = False)['OperationalAssetName'].last()\n",
    "\n",
    "#Get OA Name \n",
    "No_Failure = No_Failure.merge(work_orders_OAname.loc[:,('OperationalAssetID','OperationalAssetName')], how = 'left', on = 'OperationalAssetID')"
   ]
  },
  {
   "cell_type": "markdown",
   "metadata": {},
   "source": [
    "### Combine Above"
   ]
  },
  {
   "cell_type": "code",
   "execution_count": 212,
   "metadata": {
    "scrolled": true
   },
   "outputs": [],
   "source": [
    "WO_RaiseDate = pd.concat([No_Failure,WO_RaiseDate])"
   ]
  },
  {
   "cell_type": "code",
   "execution_count": 217,
   "metadata": {},
   "outputs": [],
   "source": [
    "WO_RaiseDate = WO_RaiseDate.reset_index()"
   ]
  },
  {
   "cell_type": "code",
   "execution_count": 218,
   "metadata": {},
   "outputs": [],
   "source": [
    "#Sort Work Orders \n",
    "WO_RaiseDate = WO_RaiseDate.sort_values(['OperationalAssetID','RaiseDate'])\n",
    "MT = MT.sort_values(['OperationalAssetID','FinishDate'])\n",
    "\n",
    "#create column 'Cumulative Maintenance' \n",
    "WO_RaiseDate['Cumulative_Maintenance'] = 0\n",
    "\n",
    "#Calculate Cumulative Maintenance \n",
    "for ID in WO_RaiseDate['OperationalAssetID'].unique():\n",
    "    for i, r in WO_RaiseDate[WO_RaiseDate['OperationalAssetID'] == ID].iterrows():\n",
    "        temp = 0 \n",
    "        for j, s in MT[MT['OperationalAssetID'] == ID].iterrows():\n",
    "            if s['FinishDate'] <= r['RaiseDate']:\n",
    "                temp = temp + 1\n",
    "        WO_RaiseDate.loc[i,'Cumulative_Maintenance'] = temp "
   ]
  },
  {
   "cell_type": "markdown",
   "metadata": {},
   "source": [
    "#### Get Age"
   ]
  },
  {
   "cell_type": "code",
   "execution_count": 221,
   "metadata": {
    "scrolled": true
   },
   "outputs": [],
   "source": [
    "#Create df with OAID and Year \n",
    "OA_Age = OA.loc[:,('OperationalAssetID','Year')]"
   ]
  },
  {
   "cell_type": "code",
   "execution_count": 222,
   "metadata": {
    "scrolled": true
   },
   "outputs": [],
   "source": [
    "#Drop null and unknown values in Year column \n",
    "OA_Age = OA_Age[(OA_Age['Year'] != 'UNKNOWN') & (OA['Year'] != 'UNK') & (OA['Year'].isnull() == False)]"
   ]
  },
  {
   "cell_type": "code",
   "execution_count": 223,
   "metadata": {},
   "outputs": [],
   "source": [
    "#Convert year to datetime \n",
    "OA_Age['Year'] = pd.to_datetime(OA_Age['Year'])"
   ]
  },
  {
   "cell_type": "code",
   "execution_count": 224,
   "metadata": {
    "scrolled": true
   },
   "outputs": [],
   "source": [
    "#Merge columns \n",
    "WO_RaiseDate = WO_RaiseDate.merge(OA_Age, on = 'OperationalAssetID', how = 'inner')"
   ]
  },
  {
   "cell_type": "code",
   "execution_count": 225,
   "metadata": {},
   "outputs": [],
   "source": [
    "#Create Age Column\n",
    "WO_RaiseDate['Age'] = WO_RaiseDate['RaiseDate'] - WO_RaiseDate['Year']"
   ]
  },
  {
   "cell_type": "code",
   "execution_count": 226,
   "metadata": {},
   "outputs": [],
   "source": [
    "#Create final dataset \n",
    "WO_RaiseDate_final = WO_RaiseDate.loc[:,('OperationalAssetID','WorkTypeCategory','Age','SinceFailure','OperationalAssetName','Cumulative_Maintenance')]"
   ]
  },
  {
   "cell_type": "code",
   "execution_count": 227,
   "metadata": {
    "scrolled": true
   },
   "outputs": [],
   "source": [
    "#Map WorkTeypCategory to be 0 or 1 \n",
    "WO_RaiseDate_final['WorkTypeCategory'] = WO_RaiseDate_final['WorkTypeCategory'].map({'Non Failure':0,'Failure': 1})"
   ]
  },
  {
   "cell_type": "code",
   "execution_count": 228,
   "metadata": {
    "scrolled": true
   },
   "outputs": [],
   "source": [
    "WO_RaiseDate_final = WO_RaiseDate_final.rename(columns = {\"WorkTypeCategory\":'Fail'})"
   ]
  },
  {
   "cell_type": "code",
   "execution_count": 229,
   "metadata": {},
   "outputs": [],
   "source": [
    "WO_RaiseDate_final.to_csv('Deliverable_7_SA.csv', index= False)"
   ]
  },
  {
   "cell_type": "code",
   "execution_count": null,
   "metadata": {},
   "outputs": [],
   "source": []
  },
  {
   "cell_type": "code",
   "execution_count": null,
   "metadata": {},
   "outputs": [],
   "source": []
  }
 ],
 "metadata": {
  "anaconda-cloud": {},
  "kernelspec": {
   "display_name": "Python [conda root]",
   "language": "python",
   "name": "conda-root-py"
  },
  "language_info": {
   "codemirror_mode": {
    "name": "ipython",
    "version": 3
   },
   "file_extension": ".py",
   "mimetype": "text/x-python",
   "name": "python",
   "nbconvert_exporter": "python",
   "pygments_lexer": "ipython3",
   "version": "3.5.4"
  }
 },
 "nbformat": 4,
 "nbformat_minor": 2
}
