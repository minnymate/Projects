{
 "cells": [
  {
   "cell_type": "markdown",
   "metadata": {},
   "source": [
    "# Import Files"
   ]
  },
  {
   "cell_type": "code",
   "execution_count": 1,
   "metadata": {},
   "outputs": [],
   "source": [
    "import pandas as pd\n",
    "import numpy as np\n",
    "import warnings \n",
    "import json\n",
    "import seaborn as sns\n",
    "from sklearn.preprocessing import StandardScaler\n",
    "from sklearn.cluster import KMeans, AgglomerativeClustering, AffinityPropagation\n",
    "import matplotlib.pyplot as plt\n",
    "import datetime as dt \n",
    "from scipy import stats\n",
    "warnings.filterwarnings(\"ignore\")\n",
    "pd.set_option('max_colwidth',1000)\n",
    "pd.set_option('display.max_columns',100)"
   ]
  },
  {
   "cell_type": "code",
   "execution_count": 2,
   "metadata": {},
   "outputs": [],
   "source": [
    "# get lsit of files in the directory \n",
    "from os import listdir\n",
    "combined_events = listdir(\"combined_events\")\n",
    "course_structures = listdir(\"course_structure\")"
   ]
  },
  {
   "cell_type": "markdown",
   "metadata": {},
   "source": [
    "## EDIT HERE"
   ]
  },
  {
   "cell_type": "code",
   "execution_count": 386,
   "metadata": {},
   "outputs": [],
   "source": [
    "# decide which files to import \n",
    "sequence = 3\n",
    "remove_outliers = 'yes'"
   ]
  },
  {
   "cell_type": "code",
   "execution_count": 387,
   "metadata": {},
   "outputs": [],
   "source": [
    "if remove_outliers == 'yes':\n",
    "    outliers = 'outliers_removed_'\n",
    "else:\n",
    "    outliers = \"\""
   ]
  },
  {
   "cell_type": "code",
   "execution_count": 388,
   "metadata": {},
   "outputs": [],
   "source": [
    "course_structure = pd.read_csv('course_structure/'+course_structures[sequence])\n",
    "data = pd.read_csv(\"combined_events/\"+combined_events[sequence])"
   ]
  },
  {
   "cell_type": "code",
   "execution_count": 389,
   "metadata": {},
   "outputs": [],
   "source": [
    "# ECN Easter Egg Segregation \n",
    "#users_by_group = pd.read_csv('users_by_group.csv')\n",
    "#data = users_by_group.merge(data,on='username', how = 'left')\n",
    "#data = data[data['group'] == 'Group A']"
   ]
  },
  {
   "cell_type": "code",
   "execution_count": 390,
   "metadata": {},
   "outputs": [],
   "source": [
    "# sort values\n",
    "data = data.sort_values(by=['username','time'])\n",
    "# convert to datetime\n",
    "data['time'] = pd.to_datetime(data['time'])\n",
    "data['course_start'] = pd.to_datetime(data['course_start'])"
   ]
  },
  {
   "cell_type": "code",
   "execution_count": 391,
   "metadata": {},
   "outputs": [],
   "source": [
    "# remove null usernames\n",
    "data = data.dropna(subset=['username'])"
   ]
  },
  {
   "cell_type": "code",
   "execution_count": 392,
   "metadata": {
    "scrolled": true
   },
   "outputs": [],
   "source": [
    "# remove users who did not make it past the first chapter\n",
    "max_chapter = data.groupby('username',as_index=False).agg({'chapter_order':'max'},axis=1)\n",
    "max_chapter = max_chapter.rename({'chapter_order':'max_chapter_order'},axis=1)\n",
    "data = max_chapter.merge(data,on='username', how = 'left')\n",
    "data = data[data['max_chapter_order'] > 1] "
   ]
  },
  {
   "cell_type": "markdown",
   "metadata": {},
   "source": [
    "## Remove Staff Users"
   ]
  },
  {
   "cell_type": "code",
   "execution_count": 393,
   "metadata": {},
   "outputs": [],
   "source": [
    "# find Course Start Date\n",
    "course_start_date = pd.DataFrame(data['course_start'].unique()).loc[0]\n",
    "# determine who the staff members are -- if they are active before the course begins, we assume that they are not students\n",
    "staff = data[data['time'] <= course_start_date[0]]['username'].unique()\n",
    "# remove staff\n",
    "data = data[~data['username'].isin(staff)]"
   ]
  },
  {
   "cell_type": "markdown",
   "metadata": {},
   "source": [
    "## Feature: Size of Largest Gap"
   ]
  },
  {
   "cell_type": "code",
   "execution_count": 394,
   "metadata": {},
   "outputs": [],
   "source": [
    "data['last_time'] = pd.DataFrame(data.groupby('username')['time'].shift(periods = 1) )\n",
    "data['time'] = pd.to_datetime(data['time'])\n",
    "data['last_time'] = pd.to_datetime(data['last_time'])\n",
    "data['delta'] = data['time'] - data['last_time'] "
   ]
  },
  {
   "cell_type": "code",
   "execution_count": 395,
   "metadata": {},
   "outputs": [],
   "source": [
    "by_students = data.loc[:,['username','delta']].dropna().groupby('username', as_index = False).max()"
   ]
  },
  {
   "cell_type": "code",
   "execution_count": 396,
   "metadata": {
    "scrolled": true
   },
   "outputs": [],
   "source": [
    "# rename column \n",
    "max_gap_feature = by_students.rename({\"delta\":\"max_gap_feature\"},axis=1)"
   ]
  },
  {
   "cell_type": "code",
   "execution_count": 397,
   "metadata": {},
   "outputs": [],
   "source": [
    "max_gap_feature['max_gap_feature'] = max_gap_feature['max_gap_feature'].dt.seconds"
   ]
  },
  {
   "cell_type": "markdown",
   "metadata": {
    "collapsed": true,
    "scrolled": true
   },
   "source": [
    "## Feature: Amount of Activity"
   ]
  },
  {
   "cell_type": "code",
   "execution_count": 398,
   "metadata": {},
   "outputs": [],
   "source": [
    "event_count_feature = data.groupby('username',as_index = False).agg({'event':'count'})"
   ]
  },
  {
   "cell_type": "code",
   "execution_count": 399,
   "metadata": {},
   "outputs": [],
   "source": [
    "event_count_feature = event_count_feature.rename({'event':'event_count_feature'},axis=1)"
   ]
  },
  {
   "cell_type": "markdown",
   "metadata": {},
   "source": [
    "## Feature: Average Session Time"
   ]
  },
  {
   "cell_type": "code",
   "execution_count": 400,
   "metadata": {},
   "outputs": [],
   "source": [
    "data_session = data.groupby(['username','session'],as_index=False).agg({'time':['min','max']})"
   ]
  },
  {
   "cell_type": "code",
   "execution_count": 401,
   "metadata": {},
   "outputs": [],
   "source": [
    "data_session.columns = ['username','session','time_min','time_max']\n",
    "data_session['delta'] = data_session['time_max']-data_session['time_min']"
   ]
  },
  {
   "cell_type": "code",
   "execution_count": 402,
   "metadata": {
    "scrolled": true
   },
   "outputs": [],
   "source": [
    "session_time_feature = data_session.groupby('username',as_index = False)['delta'].median(numeric_only=False)"
   ]
  },
  {
   "cell_type": "code",
   "execution_count": 403,
   "metadata": {
    "scrolled": true
   },
   "outputs": [],
   "source": [
    "session_time_feature = session_time_feature.rename({'delta':'session_time_feature'},axis=1)"
   ]
  },
  {
   "cell_type": "code",
   "execution_count": 404,
   "metadata": {},
   "outputs": [],
   "source": [
    "session_time_feature['session_time_feature'] = session_time_feature['session_time_feature'].dt.seconds"
   ]
  },
  {
   "cell_type": "markdown",
   "metadata": {},
   "source": [
    "## Feature: Amount of Activity / Total Time Spent (measure productivity) "
   ]
  },
  {
   "cell_type": "code",
   "execution_count": 405,
   "metadata": {
    "scrolled": true
   },
   "outputs": [],
   "source": [
    "productivity_feature = session_time_feature.merge(event_count_feature, on = 'username')"
   ]
  },
  {
   "cell_type": "code",
   "execution_count": 406,
   "metadata": {
    "scrolled": true
   },
   "outputs": [],
   "source": [
    "productivity_feature['productivity_feature'] = productivity_feature['event_count_feature'] / productivity_feature['session_time_feature']"
   ]
  },
  {
   "cell_type": "code",
   "execution_count": 407,
   "metadata": {
    "scrolled": true
   },
   "outputs": [],
   "source": [
    "productivity_feature = productivity_feature.drop(['session_time_feature','event_count_feature'],axis=1)"
   ]
  },
  {
   "cell_type": "code",
   "execution_count": 408,
   "metadata": {
    "scrolled": true
   },
   "outputs": [],
   "source": [
    "productivity_feature = productivity_feature.replace([np.inf, -np.inf], np.nan)"
   ]
  },
  {
   "cell_type": "code",
   "execution_count": 409,
   "metadata": {},
   "outputs": [],
   "source": [
    "productivity_feature = productivity_feature.dropna()"
   ]
  },
  {
   "cell_type": "markdown",
   "metadata": {},
   "source": [
    "## Feature: Video Events "
   ]
  },
  {
   "cell_type": "code",
   "execution_count": 410,
   "metadata": {},
   "outputs": [],
   "source": [
    "# convert course_structure columns to all lowercase \n",
    "course_structure.columns = map(str.lower, course_structure.columns)"
   ]
  },
  {
   "cell_type": "code",
   "execution_count": 411,
   "metadata": {},
   "outputs": [],
   "source": [
    "# only take relevant columns \n",
    "course_smallestunit = course_structure.loc[:,['smallestunit_id','smallestunit_type']]\n",
    "# drop duplicates \n",
    "course_smallestunit = course_smallestunit.drop_duplicates() "
   ]
  },
  {
   "cell_type": "code",
   "execution_count": 412,
   "metadata": {},
   "outputs": [],
   "source": [
    "# merge with course_structure to get smallestunit_type \n",
    "video_merged = data.merge(course_smallestunit, how = 'left', on = 'smallestunit_id' ) "
   ]
  },
  {
   "cell_type": "code",
   "execution_count": 413,
   "metadata": {},
   "outputs": [],
   "source": [
    "video_events_feature = video_merged[video_merged['smallestunit_type'] == 'video'].groupby('username',as_index = False)['chapter_order'].count()"
   ]
  },
  {
   "cell_type": "code",
   "execution_count": 414,
   "metadata": {},
   "outputs": [],
   "source": [
    "# rename column\n",
    "video_events_feature = video_events_feature.rename({'chapter_order':'video_events_feature'}, axis = 1)"
   ]
  },
  {
   "cell_type": "markdown",
   "metadata": {},
   "source": [
    "## Feature: Weekend vs Weekday Ratio"
   ]
  },
  {
   "cell_type": "code",
   "execution_count": 415,
   "metadata": {},
   "outputs": [],
   "source": [
    "data['weekday'] = data['time'].dt.weekday"
   ]
  },
  {
   "cell_type": "code",
   "execution_count": 416,
   "metadata": {},
   "outputs": [],
   "source": [
    "def if_weekend(x):\n",
    "    if x == 5 or x == 6:\n",
    "        return 1\n",
    "    else:\n",
    "        return 0"
   ]
  },
  {
   "cell_type": "code",
   "execution_count": 417,
   "metadata": {
    "scrolled": true
   },
   "outputs": [],
   "source": [
    "data['weekend'] = data.apply(lambda x: if_weekend(x['weekday']), axis=1)"
   ]
  },
  {
   "cell_type": "code",
   "execution_count": 418,
   "metadata": {},
   "outputs": [],
   "source": [
    "weekend_feature = data.groupby('username',as_index=False).agg({'weekend':'sum', 'event':'count'})"
   ]
  },
  {
   "cell_type": "code",
   "execution_count": 419,
   "metadata": {},
   "outputs": [],
   "source": [
    "weekend_feature['weekend_feature'] = weekend_feature['weekend']/weekend_feature['event']"
   ]
  },
  {
   "cell_type": "code",
   "execution_count": 420,
   "metadata": {},
   "outputs": [],
   "source": [
    "weekend_feature = weekend_feature.drop(['weekend','event'],axis=1)"
   ]
  },
  {
   "cell_type": "markdown",
   "metadata": {},
   "source": [
    "## Feature: Accessed Time Consistency"
   ]
  },
  {
   "cell_type": "code",
   "execution_count": 421,
   "metadata": {},
   "outputs": [],
   "source": [
    "data['unique_hour_feature'] = data['time'].dt.hour"
   ]
  },
  {
   "cell_type": "code",
   "execution_count": 422,
   "metadata": {},
   "outputs": [],
   "source": [
    "unique_hour_feature = data.groupby('username',as_index = False).agg({'unique_hour_feature': \"nunique\"})"
   ]
  },
  {
   "cell_type": "markdown",
   "metadata": {},
   "source": [
    "## Feature: Average # of times videos paused "
   ]
  },
  {
   "cell_type": "code",
   "execution_count": 423,
   "metadata": {
    "scrolled": true
   },
   "outputs": [],
   "source": [
    "videos_paused = video_merged[(video_merged['name'] == 'pause_video') | (video_merged['name'] == 'edx.video.paused')].groupby(\n",
    "    ['username','smallestunit_id'],as_index=False).agg({'smallestunit_display_name':'count'})"
   ]
  },
  {
   "cell_type": "code",
   "execution_count": 424,
   "metadata": {
    "scrolled": true
   },
   "outputs": [],
   "source": [
    "avg_video_pause_feature = videos_paused.groupby('username',as_index=False).agg({'smallestunit_display_name':'mean'})"
   ]
  },
  {
   "cell_type": "code",
   "execution_count": 425,
   "metadata": {},
   "outputs": [],
   "source": [
    "avg_video_pause_feature = avg_video_pause_feature.rename({'smallestunit_display_name':'avg_video_pause_feature'}, axis=1)"
   ]
  },
  {
   "cell_type": "markdown",
   "metadata": {},
   "source": [
    "## Feature: Percentage of Videos paused > 2 times"
   ]
  },
  {
   "cell_type": "code",
   "execution_count": 426,
   "metadata": {
    "scrolled": true
   },
   "outputs": [],
   "source": [
    "# total number of videos watched \n",
    "total_videos = data[data['name'].str.contains('video')==True].groupby('username',as_index = False).agg({'smallestunit_id':'nunique'})"
   ]
  },
  {
   "cell_type": "code",
   "execution_count": 427,
   "metadata": {},
   "outputs": [],
   "source": [
    "# total number of videos paused > 2 \n",
    "video_paused = video_merged[(video_merged['name'] == 'pause_video') | (video_merged['name'] == 'edx.video.paused')]\n",
    "video_paused = video_paused.groupby(['username','smallestunit_id'],as_index = False).agg({'smallestunit_display_name':'count'}) "
   ]
  },
  {
   "cell_type": "code",
   "execution_count": 428,
   "metadata": {},
   "outputs": [],
   "source": [
    "def greater_2(x):\n",
    "    if x > 2:\n",
    "        return 1\n",
    "    else:\n",
    "        return 0\n",
    "    \n",
    "video_paused['greater_2_feature'] = video_paused.apply(lambda x: greater_2(x['smallestunit_display_name']),axis = 1)\n",
    "video_paused = video_paused.groupby('username',as_index = False).agg({'greater_2_feature':'count'})"
   ]
  },
  {
   "cell_type": "code",
   "execution_count": 429,
   "metadata": {
    "scrolled": true
   },
   "outputs": [],
   "source": [
    "greater_2_feature = total_videos.merge(video_paused, how= 'left', on = 'username')"
   ]
  },
  {
   "cell_type": "code",
   "execution_count": 430,
   "metadata": {},
   "outputs": [],
   "source": [
    "greater_2_feature = greater_2_feature.fillna(0)"
   ]
  },
  {
   "cell_type": "code",
   "execution_count": 431,
   "metadata": {
    "scrolled": true
   },
   "outputs": [],
   "source": [
    "greater_2_feature = greater_2_feature.drop(['smallestunit_id'],axis=1)"
   ]
  },
  {
   "cell_type": "markdown",
   "metadata": {},
   "source": [
    "## Feature: Videos Completed -- Unfinished -- numbers seem off. also need to remove percents > 100 (some videos are paused after they're finished)"
   ]
  },
  {
   "cell_type": "code",
   "execution_count": 432,
   "metadata": {},
   "outputs": [],
   "source": [
    "video_data = video_merged[video_merged['smallestunit_type'] == 'video']"
   ]
  },
  {
   "cell_type": "code",
   "execution_count": 433,
   "metadata": {},
   "outputs": [],
   "source": [
    "# get duration of videos \n",
    "\n",
    "def get_video_duration(x):\n",
    "    try:\n",
    "        string = json.loads(x)\n",
    "        if 'duration' in string:\n",
    "            return string['duration']\n",
    "    except ValueError:\n",
    "        return np.NaN\n",
    "    \n",
    "#video_data['video_time'] = video_data.apply(lambda x: get_video_duration(x['event']),axis=1)\n",
    "#video_durations = video_data[video_data['video_time'].notnull()].loc[:,['smallestunit_id','video_time']]\n"
   ]
  },
  {
   "cell_type": "code",
   "execution_count": 434,
   "metadata": {
    "scrolled": true
   },
   "outputs": [],
   "source": [
    "#video_durations = video_durations.groupby('smallestunit_id',as_index = False).apply(lambda x: x.mode())\n",
    "#video_durations = video_durations.reset_index().drop(['level_0','level_1'],axis=1)"
   ]
  },
  {
   "cell_type": "code",
   "execution_count": 435,
   "metadata": {},
   "outputs": [],
   "source": [
    "def parse_stop_time(x):\n",
    "    try:\n",
    "        string = json.loads(x)\n",
    "        return string['currentTime']\n",
    "    except ValueError:\n",
    "        return NaN"
   ]
  },
  {
   "cell_type": "code",
   "execution_count": 436,
   "metadata": {},
   "outputs": [],
   "source": [
    "stopped_data = video_data[video_data['name'] == 'stop_video']"
   ]
  },
  {
   "cell_type": "code",
   "execution_count": 437,
   "metadata": {},
   "outputs": [],
   "source": [
    "#stopped_data['stop_time'] = stopped_data.apply(lambda x: parse_stop_time(x['event']),axis=1)"
   ]
  },
  {
   "cell_type": "code",
   "execution_count": 438,
   "metadata": {},
   "outputs": [],
   "source": [
    "#last_stopped = stopped_data.groupby(['username','smallestunit_id'],as_index=False).agg({'stop_time':'max'})"
   ]
  },
  {
   "cell_type": "code",
   "execution_count": 439,
   "metadata": {
    "scrolled": true
   },
   "outputs": [],
   "source": [
    "#video_merged = last_stopped.merge(video_durations, how = 'left', on = 'smallestunit_id')"
   ]
  },
  {
   "cell_type": "code",
   "execution_count": 440,
   "metadata": {},
   "outputs": [],
   "source": [
    "#video_merged['percent_watched'] = video_merged['stop_time']/video_merged['video_time']"
   ]
  },
  {
   "cell_type": "code",
   "execution_count": 441,
   "metadata": {
    "scrolled": true
   },
   "outputs": [],
   "source": [
    "#video_merged.sort_values('percent_watched',ascending=False)"
   ]
  },
  {
   "cell_type": "code",
   "execution_count": 442,
   "metadata": {},
   "outputs": [],
   "source": [
    "#video_merged.to_csv('video_percent_watched.csv',index=False)"
   ]
  },
  {
   "cell_type": "markdown",
   "metadata": {},
   "source": [
    "## Feature: Average Number of Days to Complete Chapter"
   ]
  },
  {
   "cell_type": "code",
   "execution_count": 443,
   "metadata": {
    "scrolled": true
   },
   "outputs": [],
   "source": [
    "chapter_completion = data.groupby(['username','chapter_order'],as_index = False).agg({'time':['min','max']}, axis = 1)"
   ]
  },
  {
   "cell_type": "code",
   "execution_count": 444,
   "metadata": {},
   "outputs": [],
   "source": [
    "chapter_completion.columns = ['username','chapter_order','time_min','time_max']"
   ]
  },
  {
   "cell_type": "code",
   "execution_count": 445,
   "metadata": {},
   "outputs": [],
   "source": [
    "chapter_completion['delta'] = chapter_completion['time_max'] - chapter_completion['time_min'] "
   ]
  },
  {
   "cell_type": "code",
   "execution_count": 446,
   "metadata": {},
   "outputs": [],
   "source": [
    "chapter_duration_feature = chapter_completion.groupby('username',as_index = False)['delta'].mean(numeric_only=False)"
   ]
  },
  {
   "cell_type": "code",
   "execution_count": 447,
   "metadata": {},
   "outputs": [],
   "source": [
    "chapter_duration_feature = chapter_duration_feature.rename({'delta':'chapter_duration_feature'},axis=1)"
   ]
  },
  {
   "cell_type": "code",
   "execution_count": 448,
   "metadata": {},
   "outputs": [],
   "source": [
    "chapter_duration_feature['chapter_duration_feature'] = chapter_duration_feature['chapter_duration_feature'].dt.seconds"
   ]
  },
  {
   "cell_type": "markdown",
   "metadata": {},
   "source": [
    "## Feature: How much student studied for midterm"
   ]
  },
  {
   "cell_type": "code",
   "execution_count": 449,
   "metadata": {
    "scrolled": true
   },
   "outputs": [],
   "source": [
    "midterm_start = data[data['chapter_order'] == 9].groupby('username',as_index=False).agg({'time':'min'})"
   ]
  },
  {
   "cell_type": "code",
   "execution_count": 450,
   "metadata": {},
   "outputs": [],
   "source": [
    "midterm_start = midterm_start.rename({'time':'midterm_started_feature'},axis=1)"
   ]
  },
  {
   "cell_type": "code",
   "execution_count": 451,
   "metadata": {},
   "outputs": [],
   "source": [
    "midterm_start = midterm_start.merge(data[data['chapter_order'] < 9],on='username')\n",
    "midterm_start = midterm_start[midterm_start['time'] < midterm_start['midterm_started_feature']]"
   ]
  },
  {
   "cell_type": "code",
   "execution_count": 452,
   "metadata": {
    "scrolled": true
   },
   "outputs": [],
   "source": [
    "#midterm_started_feature = midterm_start.groupby('username',as_index=False).agg({'midterm_started_feature':'count'},axis=1)"
   ]
  },
  {
   "cell_type": "markdown",
   "metadata": {},
   "source": [
    "## Feature: # of unique Session IDs"
   ]
  },
  {
   "cell_type": "code",
   "execution_count": 453,
   "metadata": {
    "scrolled": true
   },
   "outputs": [],
   "source": [
    "unique_sessions_feature = data.groupby('username',as_index=False).agg({'session':'nunique'})"
   ]
  },
  {
   "cell_type": "code",
   "execution_count": 454,
   "metadata": {},
   "outputs": [],
   "source": [
    "unique_sessions_feature = unique_sessions_feature.rename({'session':'unique_sessions_feature'},axis=1)"
   ]
  },
  {
   "cell_type": "markdown",
   "metadata": {},
   "source": [
    "\n",
    "## Feature: Access Count by Category (Forums) "
   ]
  },
  {
   "cell_type": "code",
   "execution_count": 455,
   "metadata": {
    "scrolled": true
   },
   "outputs": [],
   "source": [
    "forum_count_feature = data[data['name'].str.contains('forum') == True]"
   ]
  },
  {
   "cell_type": "code",
   "execution_count": 456,
   "metadata": {},
   "outputs": [],
   "source": [
    "forum_count_feature = forum_count_feature.groupby('username',as_index=False).agg({'name':'count'})"
   ]
  },
  {
   "cell_type": "code",
   "execution_count": 457,
   "metadata": {},
   "outputs": [],
   "source": [
    "forum_count_feature = forum_count_feature.rename({'name':'forum_count_feature'},axis=1) "
   ]
  },
  {
   "cell_type": "markdown",
   "metadata": {},
   "source": [
    "## Feature: Forum Thread Views"
   ]
  },
  {
   "cell_type": "code",
   "execution_count": 458,
   "metadata": {},
   "outputs": [],
   "source": [
    "forum_viewed_feature = data[data['name'] == 'edx.forum.thread.viewed'].groupby('username', as_index=False).agg({'name':'count'})"
   ]
  },
  {
   "cell_type": "code",
   "execution_count": 459,
   "metadata": {
    "scrolled": true
   },
   "outputs": [],
   "source": [
    "forum_viewed_feature = forum_viewed_feature.rename({'name':'forum_viewed_feature'}, axis=1)"
   ]
  },
  {
   "cell_type": "markdown",
   "metadata": {},
   "source": [
    "## Feature: Forum Thread Created"
   ]
  },
  {
   "cell_type": "code",
   "execution_count": 460,
   "metadata": {},
   "outputs": [],
   "source": [
    "forum_created_feature = data[data['name'] == 'edx.forum.thread.created'].groupby('username', as_index=False).agg({'name':'count'})"
   ]
  },
  {
   "cell_type": "code",
   "execution_count": 461,
   "metadata": {
    "scrolled": true
   },
   "outputs": [],
   "source": [
    "forum_created_feature = forum_created_feature.rename({'name':'forum_created_feature'}, axis = 1)"
   ]
  },
  {
   "cell_type": "markdown",
   "metadata": {},
   "source": [
    "## Feature: Forum Response Created"
   ]
  },
  {
   "cell_type": "code",
   "execution_count": 462,
   "metadata": {},
   "outputs": [],
   "source": [
    "forum_response_feature = data[data['name'] == 'edx.forum.response.created'].groupby('username', as_index=False).agg({'name':'count'})"
   ]
  },
  {
   "cell_type": "code",
   "execution_count": 463,
   "metadata": {
    "scrolled": true
   },
   "outputs": [],
   "source": [
    "forum_response_feature = forum_response_feature.rename({'name':'forum_response_feature'}, axis = 1)"
   ]
  },
  {
   "cell_type": "markdown",
   "metadata": {},
   "source": [
    "## Feature: Forum Comment Created"
   ]
  },
  {
   "cell_type": "code",
   "execution_count": 464,
   "metadata": {},
   "outputs": [],
   "source": [
    "forum_comment_feature = data[data['name'] == 'edx.forum.comment.created'].groupby('username', as_index=False).agg({'name':'count'})"
   ]
  },
  {
   "cell_type": "code",
   "execution_count": 465,
   "metadata": {
    "scrolled": true
   },
   "outputs": [],
   "source": [
    "forum_comment_feature = forum_comment_feature.rename({'name':'forum_comment_feature'}, axis = 1)"
   ]
  },
  {
   "cell_type": "markdown",
   "metadata": {},
   "source": [
    "## Feature: Average # of times a student watched each video"
   ]
  },
  {
   "cell_type": "code",
   "execution_count": 466,
   "metadata": {},
   "outputs": [],
   "source": [
    "video_data = video_merged[video_merged['smallestunit_type'] == 'video']"
   ]
  },
  {
   "cell_type": "code",
   "execution_count": 467,
   "metadata": {
    "scrolled": true
   },
   "outputs": [],
   "source": [
    "average_video_watch_feature = video_data.groupby(['username','smallestunit_id'],as_index=False).agg({'session':'nunique'},axis=1)"
   ]
  },
  {
   "cell_type": "code",
   "execution_count": 468,
   "metadata": {},
   "outputs": [],
   "source": [
    "average_video_watch_feature = average_video_watch_feature.groupby('username',as_index=False).agg({'session':'mean'},axis=1)"
   ]
  },
  {
   "cell_type": "code",
   "execution_count": 469,
   "metadata": {},
   "outputs": [],
   "source": [
    "average_video_watch_feature = average_video_watch_feature.rename({'session':'average_video_watch_feature'},axis=1)"
   ]
  },
  {
   "cell_type": "markdown",
   "metadata": {},
   "source": [
    "## Feature: Video Speed Changes"
   ]
  },
  {
   "cell_type": "code",
   "execution_count": 470,
   "metadata": {},
   "outputs": [],
   "source": [
    "video_speed_change_feature = video_merged[video_merged['name'] == 'speed_change_video']"
   ]
  },
  {
   "cell_type": "code",
   "execution_count": 471,
   "metadata": {},
   "outputs": [],
   "source": [
    "video_speed_change_feature = video_speed_change_feature.groupby('username',as_index=False).agg({'event':'count'},axis=1)"
   ]
  },
  {
   "cell_type": "code",
   "execution_count": 472,
   "metadata": {},
   "outputs": [],
   "source": [
    "video_speed_change_feature = video_speed_change_feature.rename({'event':'video_speed_change_feature'}, axis=1)"
   ]
  },
  {
   "cell_type": "markdown",
   "metadata": {},
   "source": [
    "## Feature: Proportion of Video"
   ]
  },
  {
   "cell_type": "code",
   "execution_count": 473,
   "metadata": {},
   "outputs": [],
   "source": [
    "# get all events\n",
    "total_events = data.groupby('username',as_index=False).agg({'event':'count'},axis=1)\n",
    "total_events = total_events.rename({'event':'total_events'},axis=1)"
   ]
  },
  {
   "cell_type": "code",
   "execution_count": 474,
   "metadata": {
    "scrolled": true
   },
   "outputs": [],
   "source": [
    "# get video events\n",
    "video_events = data[data['name'].str.contains('video')==True].groupby('username',as_index=False).agg({'event':'count'},axis=1)\n",
    "video_events = video_events.rename({'event':'video_events'},axis=1)"
   ]
  },
  {
   "cell_type": "code",
   "execution_count": 475,
   "metadata": {},
   "outputs": [],
   "source": [
    "video_events_proportion_feature = total_events.merge(video_events, on = 'username', how = 'left') "
   ]
  },
  {
   "cell_type": "code",
   "execution_count": 476,
   "metadata": {},
   "outputs": [],
   "source": [
    "video_events_proportion_feature = video_events_proportion_feature.fillna(0)"
   ]
  },
  {
   "cell_type": "code",
   "execution_count": 477,
   "metadata": {
    "scrolled": true
   },
   "outputs": [],
   "source": [
    "video_events_proportion_feature['video_events_proportion_feature'] = video_events_proportion_feature['video_events'] / video_events_proportion_feature['total_events'] "
   ]
  },
  {
   "cell_type": "code",
   "execution_count": 478,
   "metadata": {
    "scrolled": true
   },
   "outputs": [],
   "source": [
    "video_events_proportion_feature = video_events_proportion_feature.drop({'total_events','video_events'},axis=1)"
   ]
  },
  {
   "cell_type": "markdown",
   "metadata": {},
   "source": [
    "## Feature: Average number of days between interactions"
   ]
  },
  {
   "cell_type": "code",
   "execution_count": 479,
   "metadata": {},
   "outputs": [],
   "source": [
    "data_sorted = data.sort_values(['username','time'], axis=0)"
   ]
  },
  {
   "cell_type": "code",
   "execution_count": 480,
   "metadata": {},
   "outputs": [],
   "source": [
    "data_sorted['month'] = data_sorted['time'].dt.month\n",
    "data_sorted['month'] = data_sorted['month'].astype('str')\n",
    "\n",
    "data_sorted['day'] = data_sorted['time'].dt.day\n",
    "data_sorted['day'] = data_sorted['day'].astype('str')\n",
    "\n",
    "data_sorted['year'] = data_sorted['time'].dt.year\n",
    "data_sorted['year'] = data_sorted['year'].astype('str')"
   ]
  },
  {
   "cell_type": "code",
   "execution_count": 481,
   "metadata": {},
   "outputs": [],
   "source": [
    "data_sorted['date'] = data_sorted[['month','day','year']].apply(lambda x: '/'.join(x), axis = 1) "
   ]
  },
  {
   "cell_type": "code",
   "execution_count": 482,
   "metadata": {
    "scrolled": true
   },
   "outputs": [],
   "source": [
    "data_sorted['date'] = pd.to_datetime(data_sorted['date'])"
   ]
  },
  {
   "cell_type": "code",
   "execution_count": 483,
   "metadata": {
    "scrolled": true
   },
   "outputs": [],
   "source": [
    "avg_date_delta_feature = data_sorted.groupby(['username','date'],as_index = False).agg({'name':'count'},axis=1) "
   ]
  },
  {
   "cell_type": "code",
   "execution_count": 484,
   "metadata": {},
   "outputs": [],
   "source": [
    "avg_date_delta_feature = avg_date_delta_feature.drop('name', axis=1)"
   ]
  },
  {
   "cell_type": "code",
   "execution_count": 485,
   "metadata": {},
   "outputs": [],
   "source": [
    "avg_date_delta_feature = avg_date_delta_feature.sort_values(['username','date'])"
   ]
  },
  {
   "cell_type": "code",
   "execution_count": 486,
   "metadata": {
    "scrolled": true
   },
   "outputs": [],
   "source": [
    "avg_date_delta_feature['last_date'] = pd.DataFrame(avg_date_delta_feature.groupby('username')['date'].shift(periods = 1))"
   ]
  },
  {
   "cell_type": "code",
   "execution_count": 487,
   "metadata": {
    "scrolled": true
   },
   "outputs": [],
   "source": [
    "avg_date_delta_feature['avg_date_delta_feature'] = avg_date_delta_feature['date'] - avg_date_delta_feature['last_date']"
   ]
  },
  {
   "cell_type": "code",
   "execution_count": 488,
   "metadata": {
    "scrolled": true
   },
   "outputs": [],
   "source": [
    "avg_date_delta_feature = avg_date_delta_feature.dropna()"
   ]
  },
  {
   "cell_type": "code",
   "execution_count": 489,
   "metadata": {
    "scrolled": true
   },
   "outputs": [],
   "source": [
    "avg_date_delta_feature = avg_date_delta_feature.groupby('username',as_index = False)['avg_date_delta_feature'].mean(numeric_only = False)"
   ]
  },
  {
   "cell_type": "code",
   "execution_count": 490,
   "metadata": {},
   "outputs": [],
   "source": [
    "avg_date_delta_feature['avg_date_delta_feature'] = avg_date_delta_feature['avg_date_delta_feature'].dt.seconds"
   ]
  },
  {
   "cell_type": "markdown",
   "metadata": {},
   "source": [
    "## Feature: Avg # of Days needed to complete one chapter"
   ]
  },
  {
   "cell_type": "code",
   "execution_count": 491,
   "metadata": {
    "scrolled": true
   },
   "outputs": [],
   "source": [
    "chapter_completion_feature = data_sorted.groupby(['username','chapter_order'],as_index=False).agg({'date':'nunique'},axis=1)"
   ]
  },
  {
   "cell_type": "code",
   "execution_count": 492,
   "metadata": {
    "scrolled": true
   },
   "outputs": [],
   "source": [
    "chapter_completion_feature = chapter_completion_feature.groupby('username',as_index=False).agg({'date':'mean'})"
   ]
  },
  {
   "cell_type": "code",
   "execution_count": 493,
   "metadata": {},
   "outputs": [],
   "source": [
    "chapter_completion_feature = chapter_completion_feature.rename({'date':'chapter_completion_feature'},axis=1)"
   ]
  },
  {
   "cell_type": "markdown",
   "metadata": {},
   "source": [
    "## Feature: Average number of Videos watched each session"
   ]
  },
  {
   "cell_type": "code",
   "execution_count": 494,
   "metadata": {
    "scrolled": true
   },
   "outputs": [],
   "source": [
    "avg_video_per_session_feature = video_data.groupby(['username','session'],as_index=False).agg({'smallestunit_id':'nunique'})"
   ]
  },
  {
   "cell_type": "code",
   "execution_count": 495,
   "metadata": {},
   "outputs": [],
   "source": [
    "avg_video_per_session_feature = avg_video_per_session_feature.groupby('username',as_index=False).agg({'smallestunit_id':'mean'})"
   ]
  },
  {
   "cell_type": "code",
   "execution_count": 496,
   "metadata": {},
   "outputs": [],
   "source": [
    "avg_video_per_session_feature = avg_video_per_session_feature.rename({'smallestunit_id':'avg_video_per_session_feature'},axis=1)"
   ]
  },
  {
   "cell_type": "markdown",
   "metadata": {},
   "source": [
    "## Feature: Total Number of Pauses"
   ]
  },
  {
   "cell_type": "code",
   "execution_count": 497,
   "metadata": {},
   "outputs": [],
   "source": [
    "video_pause_feature = data[data['name'].str.contains('pause')]"
   ]
  },
  {
   "cell_type": "code",
   "execution_count": 498,
   "metadata": {},
   "outputs": [],
   "source": [
    "video_pause_feature = video_pause_feature.groupby(['username'],as_index=False).agg({'smallestunit_id':'count'})"
   ]
  },
  {
   "cell_type": "code",
   "execution_count": 499,
   "metadata": {},
   "outputs": [],
   "source": [
    "video_pause_feature = video_pause_feature.rename({'smallestunit_id':'video_pause_feature'},axis=1)"
   ]
  },
  {
   "cell_type": "markdown",
   "metadata": {},
   "source": [
    "## Feature: # of Forward Seeks"
   ]
  },
  {
   "cell_type": "code",
   "execution_count": 500,
   "metadata": {},
   "outputs": [],
   "source": [
    "video_seek = data[data['name'].str.contains('seek')==True]"
   ]
  },
  {
   "cell_type": "code",
   "execution_count": 501,
   "metadata": {},
   "outputs": [],
   "source": [
    "def get_time(x,when):\n",
    "    if 'old_time' in x and 'new_time' in x:\n",
    "        try:\n",
    "            string = json.loads(x)\n",
    "            return string[when]\n",
    "        except ValueError:\n",
    "            return np.NaN\n",
    "    else:\n",
    "        return np.NaN\n",
    "    \n",
    "when = ['old_time','new_time']\n",
    "for i in when:\n",
    "    video_seek[i] = video_seek.apply(lambda x: get_time(x['event'],i),axis=1)"
   ]
  },
  {
   "cell_type": "code",
   "execution_count": 502,
   "metadata": {},
   "outputs": [],
   "source": [
    "video_seek['time_delta'] = video_seek['new_time'] - video_seek['old_time']"
   ]
  },
  {
   "cell_type": "code",
   "execution_count": 503,
   "metadata": {
    "scrolled": true
   },
   "outputs": [],
   "source": [
    "video_seek['forward_backward'] = ['forward' if x > 0 else 'backward' for x in video_seek['time_delta']]"
   ]
  },
  {
   "cell_type": "code",
   "execution_count": 504,
   "metadata": {},
   "outputs": [],
   "source": [
    "forward_seek_feature = video_seek.loc[video_seek['forward_backward'] == 'forward'].groupby('username',as_index=False).agg({'forward_backward':'count'},axis=1)"
   ]
  },
  {
   "cell_type": "code",
   "execution_count": 505,
   "metadata": {},
   "outputs": [],
   "source": [
    "forward_seek_feature = forward_seek_feature.rename({'forward_backward':'forward_seek_feature'},axis=1)"
   ]
  },
  {
   "cell_type": "markdown",
   "metadata": {},
   "source": [
    "## Feature: # of Backward Seeks"
   ]
  },
  {
   "cell_type": "code",
   "execution_count": 506,
   "metadata": {},
   "outputs": [],
   "source": [
    "backward_seek_feature = video_seek.loc[video_seek['forward_backward'] == 'backward'].groupby('username',as_index=False).agg({'forward_backward':'count'},axis=1)"
   ]
  },
  {
   "cell_type": "code",
   "execution_count": 507,
   "metadata": {},
   "outputs": [],
   "source": [
    "backward_seek_feature = backward_seek_feature.rename({'forward_backward':'backward_seek_feature'},axis=1)"
   ]
  },
  {
   "cell_type": "markdown",
   "metadata": {},
   "source": [
    "## Feature: Problem Grades"
   ]
  },
  {
   "cell_type": "code",
   "execution_count": 508,
   "metadata": {},
   "outputs": [],
   "source": [
    "problems_feature = data[data.name == 'edx.grades.problem.submitted']"
   ]
  },
  {
   "cell_type": "code",
   "execution_count": 509,
   "metadata": {},
   "outputs": [],
   "source": [
    "def get_grades(x, grade_type):\n",
    "    string = json.loads(x)\n",
    "    return string[grade_type]\n",
    "\n",
    "grade_types = ['weighted_earned','weighted_possible']\n",
    "\n",
    "for i in grade_types:\n",
    "    problems_feature[i] = problems_feature.apply(lambda x: get_grades(x['event'], i),axis=1)\n"
   ]
  },
  {
   "cell_type": "code",
   "execution_count": 510,
   "metadata": {
    "scrolled": true
   },
   "outputs": [],
   "source": [
    "problems_feature = problems_feature.groupby('username',as_index=False).agg({'weighted_earned':'sum','weighted_possible':'sum'})"
   ]
  },
  {
   "cell_type": "code",
   "execution_count": 511,
   "metadata": {},
   "outputs": [],
   "source": [
    "problems_feature['problems_feature'] = problems_feature['weighted_earned'] / problems_feature['weighted_possible']"
   ]
  },
  {
   "cell_type": "code",
   "execution_count": 512,
   "metadata": {},
   "outputs": [],
   "source": [
    "problems_feature = problems_feature[['username','weighted_earned','weighted_possible','problems_feature']]"
   ]
  },
  {
   "cell_type": "markdown",
   "metadata": {},
   "source": [
    "## Feature: Number of Assessments Completed"
   ]
  },
  {
   "cell_type": "code",
   "execution_count": 513,
   "metadata": {},
   "outputs": [],
   "source": [
    "assessments_completed_feature = data[data.name == 'edx.grades.problem.submitted']"
   ]
  },
  {
   "cell_type": "code",
   "execution_count": 514,
   "metadata": {
    "scrolled": true
   },
   "outputs": [],
   "source": [
    "assessments_completed_feature = assessments_completed_feature[['event','smallestunit_id','username']].groupby('username',as_index=False).agg({'smallestunit_id':'nunique'})"
   ]
  },
  {
   "cell_type": "code",
   "execution_count": 515,
   "metadata": {},
   "outputs": [],
   "source": [
    "# rename column\n",
    "assessments_completed_feature = assessments_completed_feature.rename({'smallestunit_id':'assessments_completed_feature'},axis=1)"
   ]
  },
  {
   "cell_type": "markdown",
   "metadata": {},
   "source": [
    "## Feature: When dropped out"
   ]
  },
  {
   "cell_type": "code",
   "execution_count": 516,
   "metadata": {
    "scrolled": true
   },
   "outputs": [],
   "source": [
    "max_date_feature = data.groupby('username', as_index = False).agg({'time':'max'})"
   ]
  },
  {
   "cell_type": "code",
   "execution_count": 517,
   "metadata": {},
   "outputs": [],
   "source": [
    "max_date_feature = max_date_feature.rename({'time':'max_date_feature'},axis=1)"
   ]
  },
  {
   "cell_type": "code",
   "execution_count": 518,
   "metadata": {
    "scrolled": true
   },
   "outputs": [],
   "source": [
    "max_date_feature['max_date_feature'] = max_date_feature['max_date_feature'].dt.strftime('%y%j')"
   ]
  },
  {
   "cell_type": "markdown",
   "metadata": {},
   "source": [
    "# Clustering"
   ]
  },
  {
   "cell_type": "code",
   "execution_count": 519,
   "metadata": {},
   "outputs": [],
   "source": [
    "features = [max_gap_feature \n",
    "            ,event_count_feature\n",
    "            ,session_time_feature\n",
    "            ,video_events_feature\n",
    "           ,weekend_feature\n",
    "            ,unique_hour_feature\n",
    "            ,avg_video_pause_feature\n",
    "            ,greater_2_feature\n",
    "            ,chapter_duration_feature\n",
    "#            ,midterm_started_feature\n",
    "           ,productivity_feature\n",
    "            ,unique_sessions_feature\n",
    "            ,forum_count_feature\n",
    "            ,forum_viewed_feature\n",
    "            ,forum_created_feature\n",
    "            ,forum_response_feature\n",
    "            ,forum_comment_feature\n",
    "           ,average_video_watch_feature\n",
    "            ,video_speed_change_feature\n",
    "            ,avg_date_delta_feature\n",
    "            ,chapter_completion_feature\n",
    "            ,avg_video_per_session_feature\n",
    "            ,video_pause_feature\n",
    "            ,forward_seek_feature\n",
    "            ,backward_seek_feature\n",
    "            ,problems_feature\n",
    "            ,assessments_completed_feature\n",
    "            ,max_date_feature\n",
    "           ]\n",
    "\n",
    "from functools import reduce\n",
    "\n",
    "features_final = reduce(lambda left,right: pd.merge(left,right,on='username', how='left'), features)\n",
    "\n",
    "features_final = features_final.fillna(0)\n"
   ]
  },
  {
   "cell_type": "code",
   "execution_count": 520,
   "metadata": {},
   "outputs": [],
   "source": [
    "features_final_for_clust = features_final.drop(['username'],axis=1)\n",
    "\n",
    "cor = features_final_for_clust.corr() #Calculate the correlation of the above variables\n",
    "sns.set(rc={'figure.figsize':(9,9)})\n",
    "#sns.heatmap(cor, square = True) #Plot the correlation as heat map"
   ]
  },
  {
   "cell_type": "code",
   "execution_count": 521,
   "metadata": {},
   "outputs": [],
   "source": [
    "#sns.heatmap(cor, square = True) #Plot the correlation as heat map"
   ]
  },
  {
   "cell_type": "markdown",
   "metadata": {},
   "source": [
    "## Scale Features"
   ]
  },
  {
   "cell_type": "code",
   "execution_count": 522,
   "metadata": {},
   "outputs": [],
   "source": [
    "ss = StandardScaler()\n",
    "#scaled_features = ss.fit_transform(features_final_for_clust)\n",
    "# temp -- trying out groups \n",
    "features_final_for_clust = features_final\n",
    "\n",
    "scaled_features = ss.fit_transform(features_final.loc[:,features_final.columns != 'username'])\n",
    "\n",
    "# end temp\n",
    "scaled_features = pd.DataFrame(scaled_features)\n",
    "#temp commented out -- add back later \n",
    "#scaled_features.columns = features_final_for_clust.columns\n",
    "features_final_for_clust = scaled_features "
   ]
  },
  {
   "cell_type": "markdown",
   "metadata": {},
   "source": [
    "## Remove Outliers"
   ]
  },
  {
   "cell_type": "code",
   "execution_count": 523,
   "metadata": {
    "scrolled": true
   },
   "outputs": [],
   "source": [
    "if remove_outliers == 'yes':\n",
    "    features_final_for_clust = features_final_for_clust[(np.abs(stats.zscore(features_final_for_clust)) < 3.5).all(axis=1)]\n",
    "else:\n",
    "    None"
   ]
  },
  {
   "cell_type": "code",
   "execution_count": 524,
   "metadata": {
    "scrolled": true
   },
   "outputs": [],
   "source": [
    "# rejoin to get username \n",
    "features_final_for_clust = features_final_for_clust.join(features_final[['username']], how = 'left')"
   ]
  },
  {
   "cell_type": "code",
   "execution_count": 525,
   "metadata": {},
   "outputs": [],
   "source": [
    "# reset index \n",
    "features_final_for_clust = features_final_for_clust.reset_index()"
   ]
  },
  {
   "cell_type": "code",
   "execution_count": 526,
   "metadata": {},
   "outputs": [],
   "source": [
    "features_final_for_clust_og = features_final_for_clust"
   ]
  },
  {
   "cell_type": "code",
   "execution_count": 527,
   "metadata": {},
   "outputs": [],
   "source": [
    "#remove username again \n",
    "features_final_for_clust = features_final_for_clust.loc[:,features_final.columns != 'username']"
   ]
  },
  {
   "cell_type": "markdown",
   "metadata": {},
   "source": [
    "## PCA"
   ]
  },
  {
   "cell_type": "code",
   "execution_count": 528,
   "metadata": {},
   "outputs": [],
   "source": [
    "from sklearn.decomposition import PCA\n",
    "pca = PCA(n_components=2)\n",
    "column_names = ['principal component 1', 'principal component 2']\n",
    "principalComponents = pca.fit_transform(features_final_for_clust)\n",
    "principalDf =  pd.DataFrame(data=principalComponents, columns = column_names)\n",
    "# temp: change to PCA values \n",
    "features_final_for_clust = principalDf\n",
    "pca_components = pd.DataFrame(pca.components_, columns = scaled_features.columns, index = column_names)"
   ]
  },
  {
   "cell_type": "code",
   "execution_count": 529,
   "metadata": {
    "scrolled": true
   },
   "outputs": [],
   "source": [
    "# pca component 1\n",
    "pca_t = pca_components.transpose() \n",
    "pca1 = pca_t['principal component 1'].reindex(pca_t['principal component 1'].abs().sort_values(ascending = False).index)"
   ]
  },
  {
   "cell_type": "code",
   "execution_count": 530,
   "metadata": {
    "scrolled": true
   },
   "outputs": [],
   "source": [
    "# pca component 2\n",
    "pca2 = pca_t['principal component 2'].reindex(pca_t['principal component 2'].abs().sort_values(ascending = False).index) "
   ]
  },
  {
   "cell_type": "code",
   "execution_count": 531,
   "metadata": {},
   "outputs": [
    {
     "data": {
      "text/plain": [
       "array([0.38120687, 0.09442064])"
      ]
     },
     "execution_count": 531,
     "metadata": {},
     "output_type": "execute_result"
    }
   ],
   "source": [
    "pca.explained_variance_ratio_"
   ]
  },
  {
   "cell_type": "code",
   "execution_count": 532,
   "metadata": {},
   "outputs": [
    {
     "data": {
      "text/plain": [
       "array([0.38120687, 0.47562751])"
      ]
     },
     "execution_count": 532,
     "metadata": {},
     "output_type": "execute_result"
    }
   ],
   "source": [
    "pca.explained_variance_ratio_.cumsum()"
   ]
  },
  {
   "cell_type": "markdown",
   "metadata": {},
   "source": [
    "## Agglomerative Clustering"
   ]
  },
  {
   "cell_type": "code",
   "execution_count": 533,
   "metadata": {},
   "outputs": [],
   "source": [
    "from sklearn.cluster import AgglomerativeClustering"
   ]
  },
  {
   "cell_type": "code",
   "execution_count": 534,
   "metadata": {},
   "outputs": [],
   "source": [
    "agg_clust = AgglomerativeClustering(n_clusters = 2, affinity = 'euclidean')"
   ]
  },
  {
   "cell_type": "code",
   "execution_count": 535,
   "metadata": {},
   "outputs": [
    {
     "data": {
      "text/plain": [
       "AgglomerativeClustering(affinity='euclidean', compute_full_tree='auto',\n",
       "            connectivity=None, linkage='ward', memory=None, n_clusters=2,\n",
       "            pooling_func=<function mean at 0x0000000006DF7978>)"
      ]
     },
     "execution_count": 535,
     "metadata": {},
     "output_type": "execute_result"
    }
   ],
   "source": [
    "agg_clust.fit(features_final_for_clust)"
   ]
  },
  {
   "cell_type": "code",
   "execution_count": 536,
   "metadata": {},
   "outputs": [],
   "source": [
    "labels = agg_clust.labels_"
   ]
  },
  {
   "cell_type": "code",
   "execution_count": 537,
   "metadata": {},
   "outputs": [
    {
     "data": {
      "text/plain": [
       "0.5354671659866345"
      ]
     },
     "execution_count": 537,
     "metadata": {},
     "output_type": "execute_result"
    }
   ],
   "source": [
    "from sklearn import metrics\n",
    "metrics.silhouette_score(features_final_for_clust, labels, metric = 'euclidean')"
   ]
  },
  {
   "cell_type": "code",
   "execution_count": 538,
   "metadata": {
    "scrolled": true
   },
   "outputs": [
    {
     "name": "stdout",
     "output_type": "stream",
     "text": [
      "(2, 'clusters:', 0.535)\n",
      "(3, 'clusters:', 0.456)\n",
      "(4, 'clusters:', 0.494)\n",
      "(5, 'clusters:', 0.456)\n",
      "(6, 'clusters:', 0.415)\n"
     ]
    }
   ],
   "source": [
    "for i in range(2,7): \n",
    "    agg_clust = AgglomerativeClustering(n_clusters = i, affinity = 'euclidean')\n",
    "    agg_clust.fit(features_final_for_clust)\n",
    "    labels = agg_clust.labels_\n",
    "    score = metrics.silhouette_score(features_final_for_clust, labels, metric = 'euclidean')\n",
    "    print(i,'clusters:', round(score,3))"
   ]
  },
  {
   "cell_type": "code",
   "execution_count": 539,
   "metadata": {},
   "outputs": [],
   "source": [
    "def doAgglomerative(X, nclust=2):\n",
    "    model = AgglomerativeClustering(n_clusters=nclust, affinity = 'euclidean', linkage = 'ward')\n",
    "    clust_labels1 = model.fit_predict(X)\n",
    "    return (clust_labels1)\n",
    "\n",
    "clust_labels1 = doAgglomerative(features_final_for_clust, 2)\n",
    "agglomerative = pd.DataFrame(clust_labels1)\n",
    "features_final_for_clust.insert((features_final_for_clust.shape[1]),'agglomerative',agglomerative)"
   ]
  },
  {
   "cell_type": "code",
   "execution_count": 540,
   "metadata": {},
   "outputs": [
    {
     "data": {
      "image/png": "[encoded data removed]",
      "text/plain": [
       "<Figure size 576x576 with 1 Axes>"
      ]
     },
     "metadata": {},
     "output_type": "display_data"
    }
   ],
   "source": [
    "fig = plt.figure(figsize = (8,8))\n",
    "ax = fig.add_subplot(1,1,1)\n",
    "targets = [0,1,2,3]\n",
    "colors = ['r','g','b','c'] \n",
    "for target, color in zip(targets, colors):\n",
    "    indicesToKeep = features_final_for_clust['agglomerative'] == target\n",
    "    ax.scatter(features_final_for_clust.loc[indicesToKeep, 'principal component 1']\n",
    "                ,features_final_for_clust.loc[indicesToKeep,'principal component 2']\n",
    "                ,c = color\n",
    "                ,s = 50)\n",
    "ax.legend(targets) \n",
    "ax.grid() "
   ]
  },
  {
   "cell_type": "markdown",
   "metadata": {},
   "source": [
    "## K Means"
   ]
  },
  {
   "cell_type": "code",
   "execution_count": 541,
   "metadata": {},
   "outputs": [],
   "source": [
    "video_pause_feature_test = video_pause_feature[['video_pause_feature']]"
   ]
  },
  {
   "cell_type": "code",
   "execution_count": 542,
   "metadata": {},
   "outputs": [],
   "source": [
    "from sklearn.cluster import KMeans"
   ]
  },
  {
   "cell_type": "code",
   "execution_count": 543,
   "metadata": {},
   "outputs": [],
   "source": [
    "clust = KMeans()\n",
    "kmeans = KMeans(n_clusters=3, random_state = 0).fit(features_final_for_clust[column_names])\n",
    "y_kmeans = kmeans.predict(features_final_for_clust[column_names])\n",
    "labels = kmeans.labels_"
   ]
  },
  {
   "cell_type": "code",
   "execution_count": 544,
   "metadata": {},
   "outputs": [],
   "source": [
    "features_final_for_clust['labels'] = labels"
   ]
  },
  {
   "cell_type": "code",
   "execution_count": 545,
   "metadata": {},
   "outputs": [],
   "source": [
    "features_final_for_clust.to_csv('clusters.csv',index=False)"
   ]
  },
  {
   "cell_type": "code",
   "execution_count": 546,
   "metadata": {},
   "outputs": [
    {
     "data": {
      "text/plain": [
       "0.5083877709244718"
      ]
     },
     "execution_count": 546,
     "metadata": {},
     "output_type": "execute_result"
    }
   ],
   "source": [
    "from sklearn import metrics\n",
    "\n",
    "# silhouette score \n",
    "metrics.silhouette_score(features_final_for_clust[column_names], labels, metric = 'euclidean')"
   ]
  },
  {
   "cell_type": "code",
   "execution_count": 547,
   "metadata": {},
   "outputs": [
    {
     "name": "stdout",
     "output_type": "stream",
     "text": [
      "(2, 'clusters:', 0.556)\n",
      "(3, 'clusters:', 0.508)\n",
      "(4, 'clusters:', 0.506)\n",
      "(5, 'clusters:', 0.47)\n",
      "(6, 'clusters:', 0.438)\n"
     ]
    }
   ],
   "source": [
    "for i in range(2,7): \n",
    "    clust = KMeans()\n",
    "    kmeans = KMeans(n_clusters=i, random_state = 0).fit(features_final_for_clust[column_names])\n",
    "    y_kmeans = kmeans.predict(features_final_for_clust[column_names])\n",
    "    labels = kmeans.labels_\n",
    "    score = metrics.silhouette_score(features_final_for_clust[column_names], labels, metric = 'euclidean')\n",
    "    print(i,'clusters:', round(score,3))"
   ]
  },
  {
   "cell_type": "code",
   "execution_count": 548,
   "metadata": {
    "scrolled": true
   },
   "outputs": [
    {
     "data": {
      "text/plain": [
       "0    159\n",
       "2    156\n",
       "1     92\n",
       "Name: labels, dtype: int64"
      ]
     },
     "execution_count": 548,
     "metadata": {},
     "output_type": "execute_result"
    }
   ],
   "source": [
    "features_final_for_clust['labels'].value_counts()"
   ]
  },
  {
   "cell_type": "code",
   "execution_count": 549,
   "metadata": {
    "scrolled": false
   },
   "outputs": [
    {
     "data": {
      "image/png": "[encoded data removed]",
      "text/plain": [
       "<Figure size 576x576 with 1 Axes>"
      ]
     },
     "metadata": {},
     "output_type": "display_data"
    }
   ],
   "source": [
    "fig = plt.figure(figsize = (8,8))\n",
    "ax = fig.add_subplot(1,1,1)\n",
    "targets = [0,1,2,3]\n",
    "colors = ['r','g','b','c']\n",
    "for target, color in zip(targets, colors):\n",
    "    indicesToKeep = features_final_for_clust['labels'] == target\n",
    "    ax.scatter(features_final_for_clust.loc[indicesToKeep, 'principal component 1']\n",
    "             ,features_final_for_clust.loc[indicesToKeep,'principal component 2']\n",
    "             , c = color\n",
    "             , s = 50)\n",
    "ax.legend(targets)\n",
    "ax.grid() "
   ]
  },
  {
   "cell_type": "code",
   "execution_count": 550,
   "metadata": {},
   "outputs": [
    {
     "name": "stdout",
     "output_type": "stream",
     "text": [
      "(0, ':', -2.175119733262517)\n",
      "(1, ':', 3.814709150399215)\n",
      "(2, ':', -0.0327513092819728)\n"
     ]
    }
   ],
   "source": [
    "for i in range(3):\n",
    "    print(i, \":\", features_final_for_clust[features_final_for_clust['labels'] == i]['principal component 1'].mean())"
   ]
  },
  {
   "cell_type": "code",
   "execution_count": 551,
   "metadata": {
    "scrolled": false
   },
   "outputs": [
    {
     "name": "stdout",
     "output_type": "stream",
     "text": [
      "(0, ':', -0.725971746488215)\n",
      "(1, ':', -0.7259462819030782)\n",
      "(2, ':', 1.1680549078635214)\n"
     ]
    }
   ],
   "source": [
    "for i in range(3):\n",
    "    print(i, \":\", features_final_for_clust[features_final_for_clust['labels'] == i]['principal component 2'].mean())"
   ]
  },
  {
   "cell_type": "code",
   "execution_count": 552,
   "metadata": {},
   "outputs": [],
   "source": [
    "# rejoin to get username \n",
    "features_final_for_clust = features_final_for_clust.join(features_final_for_clust_og[['username']], how = 'left')"
   ]
  },
  {
   "cell_type": "code",
   "execution_count": 553,
   "metadata": {
    "scrolled": true
   },
   "outputs": [],
   "source": [
    "users_by_group = pd.read_csv('users_by_group.csv') \n",
    "features_final_for_clust = users_by_group.merge(features_final_for_clust,on='username', how = 'right') "
   ]
  },
  {
   "cell_type": "markdown",
   "metadata": {},
   "source": [
    "## Write to CSV Files"
   ]
  },
  {
   "cell_type": "code",
   "execution_count": 555,
   "metadata": {},
   "outputs": [],
   "source": [
    "# to_csv \n",
    "\n",
    "features_final_for_clust.to_csv('cluster_results/'+outliers+course_structures[sequence],index=False)\n",
    "pd.DataFrame(pca1).to_csv('cluster_results/PCA/pca1_'+outliers+course_structures[sequence])\n",
    "pd.DataFrame(pca2).to_csv('cluster_results/PCA/pca2_'+outliers+course_structures[sequence])"
   ]
  },
  {
   "cell_type": "markdown",
   "metadata": {},
   "source": [
    "## Rejoin Data"
   ]
  },
  {
   "cell_type": "code",
   "execution_count": 4603,
   "metadata": {},
   "outputs": [],
   "source": [
    "#features_final_for_clust['username'] = features_final['username'] \n",
    "#clusters = data.merge(features_final_for_clust, on = 'username', how = 'inner')\n",
    "# convert usernames to strings \n",
    "#clusters['username'] = clusters['username'].astype('str')\n",
    "\n",
    "#clusters.to_excel('clusters_all.xlsx',index=False)\n",
    "#clusters['agglomerative'].value_counts()\n",
    "#clusters['labels'].value_counts()"
   ]
  },
  {
   "cell_type": "code",
   "execution_count": null,
   "metadata": {},
   "outputs": [],
   "source": []
  },
  {
   "cell_type": "markdown",
   "metadata": {},
   "source": [
    "## Join PCA Data"
   ]
  },
  {
   "cell_type": "code",
   "execution_count": null,
   "metadata": {},
   "outputs": [],
   "source": [
    "# get lsit of files in the directory \n",
    "pca_files = listdir(\"cluster_results/PCA\")\n"
   ]
  },
  {
   "cell_type": "code",
   "execution_count": null,
   "metadata": {
    "scrolled": true
   },
   "outputs": [],
   "source": [
    "combined_pca = pd.DataFrame(columns={'Unnamed: 0'})\n",
    "for i in range(len(pca_files)):\n",
    "    file = pd.read_csv('cluster_results/PCA/'+pca_files[i])\n",
    "    file = file.rename({file.columns[1]: pca_files[i] },axis=1)\n",
    "    combined_pca = combined_pca.merge(file, on = 'Unnamed: 0', how = 'outer')"
   ]
  },
  {
   "cell_type": "code",
   "execution_count": null,
   "metadata": {
    "scrolled": true
   },
   "outputs": [],
   "source": [
    "combined_pca.to_csv('pca_combined.csv',index=False)"
   ]
  },
  {
   "cell_type": "code",
   "execution_count": null,
   "metadata": {},
   "outputs": [],
   "source": []
  },
  {
   "cell_type": "code",
   "execution_count": null,
   "metadata": {},
   "outputs": [],
   "source": []
  }
 ],
 "metadata": {
  "kernelspec": {
   "display_name": "Python [default]",
   "language": "python",
   "name": "python3"
  },
  "language_info": {
   "codemirror_mode": {
    "name": "ipython",
    "version": 3
   },
   "file_extension": ".py",
   "mimetype": "text/x-python",
   "name": "python",
   "nbconvert_exporter": "python",
   "pygments_lexer": "ipython3",
   "version": "3.5.4"
  }
 },
 "nbformat": 4,
 "nbformat_minor": 2
}
